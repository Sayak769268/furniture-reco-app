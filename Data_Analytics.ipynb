{
  "nbformat": 4,
  "nbformat_minor": 0,
  "metadata": {
    "colab": {
      "provenance": []
    },
    "kernelspec": {
      "name": "python3",
      "display_name": "Python 3"
    },
    "language_info": {
      "name": "python"
    }
  },
  "cells": [
    {
      "cell_type": "code",
      "execution_count": null,
      "metadata": {
        "id": "1GPmWBha355q"
      },
      "outputs": [],
      "source": [
        "# Furniture Dataset Analytics\n",
        "# This notebook explores the product dataset used in the recommendation system.\n",
        "# We'll extract key insights such as brand distribution, category breakdown, price ranges, and material usage.\n"
      ]
    },
    {
      "cell_type": "code",
      "source": [
        "from google.colab import files\n",
        "uploaded = files.upload()\n"
      ],
      "metadata": {
        "colab": {
          "base_uri": "https://localhost:8080/",
          "height": 73
        },
        "id": "3f582h0R4G8O",
        "outputId": "d5a64a94-06ff-464c-d313-7aa638ce25db"
      },
      "execution_count": null,
      "outputs": [
        {
          "output_type": "display_data",
          "data": {
            "text/plain": [
              "<IPython.core.display.HTML object>"
            ],
            "text/html": [
              "\n",
              "     <input type=\"file\" id=\"files-25f76cd2-1bd0-4d28-aeb1-a7c7f2b6fa48\" name=\"files[]\" multiple disabled\n",
              "        style=\"border:none\" />\n",
              "     <output id=\"result-25f76cd2-1bd0-4d28-aeb1-a7c7f2b6fa48\">\n",
              "      Upload widget is only available when the cell has been executed in the\n",
              "      current browser session. Please rerun this cell to enable.\n",
              "      </output>\n",
              "      <script>// Copyright 2017 Google LLC\n",
              "//\n",
              "// Licensed under the Apache License, Version 2.0 (the \"License\");\n",
              "// you may not use this file except in compliance with the License.\n",
              "// You may obtain a copy of the License at\n",
              "//\n",
              "//      http://www.apache.org/licenses/LICENSE-2.0\n",
              "//\n",
              "// Unless required by applicable law or agreed to in writing, software\n",
              "// distributed under the License is distributed on an \"AS IS\" BASIS,\n",
              "// WITHOUT WARRANTIES OR CONDITIONS OF ANY KIND, either express or implied.\n",
              "// See the License for the specific language governing permissions and\n",
              "// limitations under the License.\n",
              "\n",
              "/**\n",
              " * @fileoverview Helpers for google.colab Python module.\n",
              " */\n",
              "(function(scope) {\n",
              "function span(text, styleAttributes = {}) {\n",
              "  const element = document.createElement('span');\n",
              "  element.textContent = text;\n",
              "  for (const key of Object.keys(styleAttributes)) {\n",
              "    element.style[key] = styleAttributes[key];\n",
              "  }\n",
              "  return element;\n",
              "}\n",
              "\n",
              "// Max number of bytes which will be uploaded at a time.\n",
              "const MAX_PAYLOAD_SIZE = 100 * 1024;\n",
              "\n",
              "function _uploadFiles(inputId, outputId) {\n",
              "  const steps = uploadFilesStep(inputId, outputId);\n",
              "  const outputElement = document.getElementById(outputId);\n",
              "  // Cache steps on the outputElement to make it available for the next call\n",
              "  // to uploadFilesContinue from Python.\n",
              "  outputElement.steps = steps;\n",
              "\n",
              "  return _uploadFilesContinue(outputId);\n",
              "}\n",
              "\n",
              "// This is roughly an async generator (not supported in the browser yet),\n",
              "// where there are multiple asynchronous steps and the Python side is going\n",
              "// to poll for completion of each step.\n",
              "// This uses a Promise to block the python side on completion of each step,\n",
              "// then passes the result of the previous step as the input to the next step.\n",
              "function _uploadFilesContinue(outputId) {\n",
              "  const outputElement = document.getElementById(outputId);\n",
              "  const steps = outputElement.steps;\n",
              "\n",
              "  const next = steps.next(outputElement.lastPromiseValue);\n",
              "  return Promise.resolve(next.value.promise).then((value) => {\n",
              "    // Cache the last promise value to make it available to the next\n",
              "    // step of the generator.\n",
              "    outputElement.lastPromiseValue = value;\n",
              "    return next.value.response;\n",
              "  });\n",
              "}\n",
              "\n",
              "/**\n",
              " * Generator function which is called between each async step of the upload\n",
              " * process.\n",
              " * @param {string} inputId Element ID of the input file picker element.\n",
              " * @param {string} outputId Element ID of the output display.\n",
              " * @return {!Iterable<!Object>} Iterable of next steps.\n",
              " */\n",
              "function* uploadFilesStep(inputId, outputId) {\n",
              "  const inputElement = document.getElementById(inputId);\n",
              "  inputElement.disabled = false;\n",
              "\n",
              "  const outputElement = document.getElementById(outputId);\n",
              "  outputElement.innerHTML = '';\n",
              "\n",
              "  const pickedPromise = new Promise((resolve) => {\n",
              "    inputElement.addEventListener('change', (e) => {\n",
              "      resolve(e.target.files);\n",
              "    });\n",
              "  });\n",
              "\n",
              "  const cancel = document.createElement('button');\n",
              "  inputElement.parentElement.appendChild(cancel);\n",
              "  cancel.textContent = 'Cancel upload';\n",
              "  const cancelPromise = new Promise((resolve) => {\n",
              "    cancel.onclick = () => {\n",
              "      resolve(null);\n",
              "    };\n",
              "  });\n",
              "\n",
              "  // Wait for the user to pick the files.\n",
              "  const files = yield {\n",
              "    promise: Promise.race([pickedPromise, cancelPromise]),\n",
              "    response: {\n",
              "      action: 'starting',\n",
              "    }\n",
              "  };\n",
              "\n",
              "  cancel.remove();\n",
              "\n",
              "  // Disable the input element since further picks are not allowed.\n",
              "  inputElement.disabled = true;\n",
              "\n",
              "  if (!files) {\n",
              "    return {\n",
              "      response: {\n",
              "        action: 'complete',\n",
              "      }\n",
              "    };\n",
              "  }\n",
              "\n",
              "  for (const file of files) {\n",
              "    const li = document.createElement('li');\n",
              "    li.append(span(file.name, {fontWeight: 'bold'}));\n",
              "    li.append(span(\n",
              "        `(${file.type || 'n/a'}) - ${file.size} bytes, ` +\n",
              "        `last modified: ${\n",
              "            file.lastModifiedDate ? file.lastModifiedDate.toLocaleDateString() :\n",
              "                                    'n/a'} - `));\n",
              "    const percent = span('0% done');\n",
              "    li.appendChild(percent);\n",
              "\n",
              "    outputElement.appendChild(li);\n",
              "\n",
              "    const fileDataPromise = new Promise((resolve) => {\n",
              "      const reader = new FileReader();\n",
              "      reader.onload = (e) => {\n",
              "        resolve(e.target.result);\n",
              "      };\n",
              "      reader.readAsArrayBuffer(file);\n",
              "    });\n",
              "    // Wait for the data to be ready.\n",
              "    let fileData = yield {\n",
              "      promise: fileDataPromise,\n",
              "      response: {\n",
              "        action: 'continue',\n",
              "      }\n",
              "    };\n",
              "\n",
              "    // Use a chunked sending to avoid message size limits. See b/62115660.\n",
              "    let position = 0;\n",
              "    do {\n",
              "      const length = Math.min(fileData.byteLength - position, MAX_PAYLOAD_SIZE);\n",
              "      const chunk = new Uint8Array(fileData, position, length);\n",
              "      position += length;\n",
              "\n",
              "      const base64 = btoa(String.fromCharCode.apply(null, chunk));\n",
              "      yield {\n",
              "        response: {\n",
              "          action: 'append',\n",
              "          file: file.name,\n",
              "          data: base64,\n",
              "        },\n",
              "      };\n",
              "\n",
              "      let percentDone = fileData.byteLength === 0 ?\n",
              "          100 :\n",
              "          Math.round((position / fileData.byteLength) * 100);\n",
              "      percent.textContent = `${percentDone}% done`;\n",
              "\n",
              "    } while (position < fileData.byteLength);\n",
              "  }\n",
              "\n",
              "  // All done.\n",
              "  yield {\n",
              "    response: {\n",
              "      action: 'complete',\n",
              "    }\n",
              "  };\n",
              "}\n",
              "\n",
              "scope.google = scope.google || {};\n",
              "scope.google.colab = scope.google.colab || {};\n",
              "scope.google.colab._files = {\n",
              "  _uploadFiles,\n",
              "  _uploadFilesContinue,\n",
              "};\n",
              "})(self);\n",
              "</script> "
            ]
          },
          "metadata": {}
        },
        {
          "output_type": "stream",
          "name": "stdout",
          "text": [
            "Saving Products.csv to Products.csv\n"
          ]
        }
      ]
    },
    {
      "cell_type": "code",
      "source": [
        "import pandas as pd\n",
        "\n",
        "# Load the uploaded CSV\n",
        "df = pd.read_csv(\"Products.csv\")\n",
        "\n",
        "# Preview the first few rows\n",
        "df.head()\n"
      ],
      "metadata": {
        "colab": {
          "base_uri": "https://localhost:8080/",
          "height": 694
        },
        "id": "MC3SPjOv4yDb",
        "outputId": "bd54d338-f2b0-4b6d-e355-24f21028a019"
      },
      "execution_count": null,
      "outputs": [
        {
          "output_type": "execute_result",
          "data": {
            "text/plain": [
              "                                               title            brand  \\\n",
              "0  GOYMFK 1pc Free Standing Shoe Rack, Multi-laye...           GOYMFK   \n",
              "1  subrtex Leather ding Room, Dining Chairs Set o...          subrtex   \n",
              "2  Plant Repotting Mat MUYETOL Waterproof Transpl...          MUYETOL   \n",
              "3  Pickleball Doormat, Welcome Doormat Absorbent ...          VEWETOL   \n",
              "4  JOIN IRON Foldable TV Trays for Eating Set of ...  JOIN IRON Store   \n",
              "\n",
              "                                         description   price  \\\n",
              "0  multiple shoes, coats, hats, and other items E...  $24.99   \n",
              "1                     subrtex Dining chairs Set of 2     NaN   \n",
              "2                                                NaN   $5.98   \n",
              "3  The decorative doormat features a subtle textu...  $13.99   \n",
              "4  Set of Four Folding Trays With Matching Storag...  $89.99   \n",
              "\n",
              "                                          categories  \\\n",
              "0  ['Home & Kitchen', 'Storage & Organization', '...   \n",
              "1  ['Home & Kitchen', 'Furniture', 'Dining Room F...   \n",
              "2  ['Patio, Lawn & Garden', 'Outdoor Décor', 'Doo...   \n",
              "3  ['Patio, Lawn & Garden', 'Outdoor Décor', 'Doo...   \n",
              "4  ['Home & Kitchen', 'Furniture', 'Game & Recrea...   \n",
              "\n",
              "                                              images           manufacturer  \\\n",
              "0  ['https://m.media-amazon.com/images/I/416WaLx1...                 GOYMFK   \n",
              "1  ['https://m.media-amazon.com/images/I/31SejUEW...  Subrtex Houseware INC   \n",
              "2  ['https://m.media-amazon.com/images/I/41RgefVq...                MUYETOL   \n",
              "3  ['https://m.media-amazon.com/images/I/61vz1Igl...              Contrence   \n",
              "4  ['https://m.media-amazon.com/images/I/41p4d4VJ...                    NaN   \n",
              "\n",
              "         package_dimensions country_of_origin      material          color  \\\n",
              "0  2.36\"D x 7.87\"W x 21.6\"H             China         Metal          White   \n",
              "1      18.5\"D x 16\"W x 35\"H               NaN        Sponge          Black   \n",
              "2           26.8\"L x 26.8\"W               NaN  Polyethylene          Green   \n",
              "3               24\"L x 16\"W               NaN        Rubber          A5589   \n",
              "4    18.9\"D x 14.2\"W x 26\"H               NaN          Iron  Grey Set of 4   \n",
              "\n",
              "                                uniq_id  \n",
              "0  02593e81-5c09-5069-8516-b0b29f439ded  \n",
              "1  5938d217-b8c5-5d3e-b1cf-e28e340f292e  \n",
              "2  b2ede786-3f51-5a45-9a5b-bcf856958cd8  \n",
              "3  8fd9377b-cfa6-5f10-835c-6b8eca2816b5  \n",
              "4  bdc9aa30-9439-50dc-8e89-213ea211d66a  "
            ],
            "text/html": [
              "\n",
              "  <div id=\"df-86d485fa-0853-4a55-bff1-788af90cd65d\" class=\"colab-df-container\">\n",
              "    <div>\n",
              "<style scoped>\n",
              "    .dataframe tbody tr th:only-of-type {\n",
              "        vertical-align: middle;\n",
              "    }\n",
              "\n",
              "    .dataframe tbody tr th {\n",
              "        vertical-align: top;\n",
              "    }\n",
              "\n",
              "    .dataframe thead th {\n",
              "        text-align: right;\n",
              "    }\n",
              "</style>\n",
              "<table border=\"1\" class=\"dataframe\">\n",
              "  <thead>\n",
              "    <tr style=\"text-align: right;\">\n",
              "      <th></th>\n",
              "      <th>title</th>\n",
              "      <th>brand</th>\n",
              "      <th>description</th>\n",
              "      <th>price</th>\n",
              "      <th>categories</th>\n",
              "      <th>images</th>\n",
              "      <th>manufacturer</th>\n",
              "      <th>package_dimensions</th>\n",
              "      <th>country_of_origin</th>\n",
              "      <th>material</th>\n",
              "      <th>color</th>\n",
              "      <th>uniq_id</th>\n",
              "    </tr>\n",
              "  </thead>\n",
              "  <tbody>\n",
              "    <tr>\n",
              "      <th>0</th>\n",
              "      <td>GOYMFK 1pc Free Standing Shoe Rack, Multi-laye...</td>\n",
              "      <td>GOYMFK</td>\n",
              "      <td>multiple shoes, coats, hats, and other items E...</td>\n",
              "      <td>$24.99</td>\n",
              "      <td>['Home &amp; Kitchen', 'Storage &amp; Organization', '...</td>\n",
              "      <td>['https://m.media-amazon.com/images/I/416WaLx1...</td>\n",
              "      <td>GOYMFK</td>\n",
              "      <td>2.36\"D x 7.87\"W x 21.6\"H</td>\n",
              "      <td>China</td>\n",
              "      <td>Metal</td>\n",
              "      <td>White</td>\n",
              "      <td>02593e81-5c09-5069-8516-b0b29f439ded</td>\n",
              "    </tr>\n",
              "    <tr>\n",
              "      <th>1</th>\n",
              "      <td>subrtex Leather ding Room, Dining Chairs Set o...</td>\n",
              "      <td>subrtex</td>\n",
              "      <td>subrtex Dining chairs Set of 2</td>\n",
              "      <td>NaN</td>\n",
              "      <td>['Home &amp; Kitchen', 'Furniture', 'Dining Room F...</td>\n",
              "      <td>['https://m.media-amazon.com/images/I/31SejUEW...</td>\n",
              "      <td>Subrtex Houseware INC</td>\n",
              "      <td>18.5\"D x 16\"W x 35\"H</td>\n",
              "      <td>NaN</td>\n",
              "      <td>Sponge</td>\n",
              "      <td>Black</td>\n",
              "      <td>5938d217-b8c5-5d3e-b1cf-e28e340f292e</td>\n",
              "    </tr>\n",
              "    <tr>\n",
              "      <th>2</th>\n",
              "      <td>Plant Repotting Mat MUYETOL Waterproof Transpl...</td>\n",
              "      <td>MUYETOL</td>\n",
              "      <td>NaN</td>\n",
              "      <td>$5.98</td>\n",
              "      <td>['Patio, Lawn &amp; Garden', 'Outdoor Décor', 'Doo...</td>\n",
              "      <td>['https://m.media-amazon.com/images/I/41RgefVq...</td>\n",
              "      <td>MUYETOL</td>\n",
              "      <td>26.8\"L x 26.8\"W</td>\n",
              "      <td>NaN</td>\n",
              "      <td>Polyethylene</td>\n",
              "      <td>Green</td>\n",
              "      <td>b2ede786-3f51-5a45-9a5b-bcf856958cd8</td>\n",
              "    </tr>\n",
              "    <tr>\n",
              "      <th>3</th>\n",
              "      <td>Pickleball Doormat, Welcome Doormat Absorbent ...</td>\n",
              "      <td>VEWETOL</td>\n",
              "      <td>The decorative doormat features a subtle textu...</td>\n",
              "      <td>$13.99</td>\n",
              "      <td>['Patio, Lawn &amp; Garden', 'Outdoor Décor', 'Doo...</td>\n",
              "      <td>['https://m.media-amazon.com/images/I/61vz1Igl...</td>\n",
              "      <td>Contrence</td>\n",
              "      <td>24\"L x 16\"W</td>\n",
              "      <td>NaN</td>\n",
              "      <td>Rubber</td>\n",
              "      <td>A5589</td>\n",
              "      <td>8fd9377b-cfa6-5f10-835c-6b8eca2816b5</td>\n",
              "    </tr>\n",
              "    <tr>\n",
              "      <th>4</th>\n",
              "      <td>JOIN IRON Foldable TV Trays for Eating Set of ...</td>\n",
              "      <td>JOIN IRON Store</td>\n",
              "      <td>Set of Four Folding Trays With Matching Storag...</td>\n",
              "      <td>$89.99</td>\n",
              "      <td>['Home &amp; Kitchen', 'Furniture', 'Game &amp; Recrea...</td>\n",
              "      <td>['https://m.media-amazon.com/images/I/41p4d4VJ...</td>\n",
              "      <td>NaN</td>\n",
              "      <td>18.9\"D x 14.2\"W x 26\"H</td>\n",
              "      <td>NaN</td>\n",
              "      <td>Iron</td>\n",
              "      <td>Grey Set of 4</td>\n",
              "      <td>bdc9aa30-9439-50dc-8e89-213ea211d66a</td>\n",
              "    </tr>\n",
              "  </tbody>\n",
              "</table>\n",
              "</div>\n",
              "    <div class=\"colab-df-buttons\">\n",
              "\n",
              "  <div class=\"colab-df-container\">\n",
              "    <button class=\"colab-df-convert\" onclick=\"convertToInteractive('df-86d485fa-0853-4a55-bff1-788af90cd65d')\"\n",
              "            title=\"Convert this dataframe to an interactive table.\"\n",
              "            style=\"display:none;\">\n",
              "\n",
              "  <svg xmlns=\"http://www.w3.org/2000/svg\" height=\"24px\" viewBox=\"0 -960 960 960\">\n",
              "    <path d=\"M120-120v-720h720v720H120Zm60-500h600v-160H180v160Zm220 220h160v-160H400v160Zm0 220h160v-160H400v160ZM180-400h160v-160H180v160Zm440 0h160v-160H620v160ZM180-180h160v-160H180v160Zm440 0h160v-160H620v160Z\"/>\n",
              "  </svg>\n",
              "    </button>\n",
              "\n",
              "  <style>\n",
              "    .colab-df-container {\n",
              "      display:flex;\n",
              "      gap: 12px;\n",
              "    }\n",
              "\n",
              "    .colab-df-convert {\n",
              "      background-color: #E8F0FE;\n",
              "      border: none;\n",
              "      border-radius: 50%;\n",
              "      cursor: pointer;\n",
              "      display: none;\n",
              "      fill: #1967D2;\n",
              "      height: 32px;\n",
              "      padding: 0 0 0 0;\n",
              "      width: 32px;\n",
              "    }\n",
              "\n",
              "    .colab-df-convert:hover {\n",
              "      background-color: #E2EBFA;\n",
              "      box-shadow: 0px 1px 2px rgba(60, 64, 67, 0.3), 0px 1px 3px 1px rgba(60, 64, 67, 0.15);\n",
              "      fill: #174EA6;\n",
              "    }\n",
              "\n",
              "    .colab-df-buttons div {\n",
              "      margin-bottom: 4px;\n",
              "    }\n",
              "\n",
              "    [theme=dark] .colab-df-convert {\n",
              "      background-color: #3B4455;\n",
              "      fill: #D2E3FC;\n",
              "    }\n",
              "\n",
              "    [theme=dark] .colab-df-convert:hover {\n",
              "      background-color: #434B5C;\n",
              "      box-shadow: 0px 1px 3px 1px rgba(0, 0, 0, 0.15);\n",
              "      filter: drop-shadow(0px 1px 2px rgba(0, 0, 0, 0.3));\n",
              "      fill: #FFFFFF;\n",
              "    }\n",
              "  </style>\n",
              "\n",
              "    <script>\n",
              "      const buttonEl =\n",
              "        document.querySelector('#df-86d485fa-0853-4a55-bff1-788af90cd65d button.colab-df-convert');\n",
              "      buttonEl.style.display =\n",
              "        google.colab.kernel.accessAllowed ? 'block' : 'none';\n",
              "\n",
              "      async function convertToInteractive(key) {\n",
              "        const element = document.querySelector('#df-86d485fa-0853-4a55-bff1-788af90cd65d');\n",
              "        const dataTable =\n",
              "          await google.colab.kernel.invokeFunction('convertToInteractive',\n",
              "                                                    [key], {});\n",
              "        if (!dataTable) return;\n",
              "\n",
              "        const docLinkHtml = 'Like what you see? Visit the ' +\n",
              "          '<a target=\"_blank\" href=https://colab.research.google.com/notebooks/data_table.ipynb>data table notebook</a>'\n",
              "          + ' to learn more about interactive tables.';\n",
              "        element.innerHTML = '';\n",
              "        dataTable['output_type'] = 'display_data';\n",
              "        await google.colab.output.renderOutput(dataTable, element);\n",
              "        const docLink = document.createElement('div');\n",
              "        docLink.innerHTML = docLinkHtml;\n",
              "        element.appendChild(docLink);\n",
              "      }\n",
              "    </script>\n",
              "  </div>\n",
              "\n",
              "\n",
              "    <div id=\"df-2abc6c94-5367-4572-a5a3-ac045850ac61\">\n",
              "      <button class=\"colab-df-quickchart\" onclick=\"quickchart('df-2abc6c94-5367-4572-a5a3-ac045850ac61')\"\n",
              "                title=\"Suggest charts\"\n",
              "                style=\"display:none;\">\n",
              "\n",
              "<svg xmlns=\"http://www.w3.org/2000/svg\" height=\"24px\"viewBox=\"0 0 24 24\"\n",
              "     width=\"24px\">\n",
              "    <g>\n",
              "        <path d=\"M19 3H5c-1.1 0-2 .9-2 2v14c0 1.1.9 2 2 2h14c1.1 0 2-.9 2-2V5c0-1.1-.9-2-2-2zM9 17H7v-7h2v7zm4 0h-2V7h2v10zm4 0h-2v-4h2v4z\"/>\n",
              "    </g>\n",
              "</svg>\n",
              "      </button>\n",
              "\n",
              "<style>\n",
              "  .colab-df-quickchart {\n",
              "      --bg-color: #E8F0FE;\n",
              "      --fill-color: #1967D2;\n",
              "      --hover-bg-color: #E2EBFA;\n",
              "      --hover-fill-color: #174EA6;\n",
              "      --disabled-fill-color: #AAA;\n",
              "      --disabled-bg-color: #DDD;\n",
              "  }\n",
              "\n",
              "  [theme=dark] .colab-df-quickchart {\n",
              "      --bg-color: #3B4455;\n",
              "      --fill-color: #D2E3FC;\n",
              "      --hover-bg-color: #434B5C;\n",
              "      --hover-fill-color: #FFFFFF;\n",
              "      --disabled-bg-color: #3B4455;\n",
              "      --disabled-fill-color: #666;\n",
              "  }\n",
              "\n",
              "  .colab-df-quickchart {\n",
              "    background-color: var(--bg-color);\n",
              "    border: none;\n",
              "    border-radius: 50%;\n",
              "    cursor: pointer;\n",
              "    display: none;\n",
              "    fill: var(--fill-color);\n",
              "    height: 32px;\n",
              "    padding: 0;\n",
              "    width: 32px;\n",
              "  }\n",
              "\n",
              "  .colab-df-quickchart:hover {\n",
              "    background-color: var(--hover-bg-color);\n",
              "    box-shadow: 0 1px 2px rgba(60, 64, 67, 0.3), 0 1px 3px 1px rgba(60, 64, 67, 0.15);\n",
              "    fill: var(--button-hover-fill-color);\n",
              "  }\n",
              "\n",
              "  .colab-df-quickchart-complete:disabled,\n",
              "  .colab-df-quickchart-complete:disabled:hover {\n",
              "    background-color: var(--disabled-bg-color);\n",
              "    fill: var(--disabled-fill-color);\n",
              "    box-shadow: none;\n",
              "  }\n",
              "\n",
              "  .colab-df-spinner {\n",
              "    border: 2px solid var(--fill-color);\n",
              "    border-color: transparent;\n",
              "    border-bottom-color: var(--fill-color);\n",
              "    animation:\n",
              "      spin 1s steps(1) infinite;\n",
              "  }\n",
              "\n",
              "  @keyframes spin {\n",
              "    0% {\n",
              "      border-color: transparent;\n",
              "      border-bottom-color: var(--fill-color);\n",
              "      border-left-color: var(--fill-color);\n",
              "    }\n",
              "    20% {\n",
              "      border-color: transparent;\n",
              "      border-left-color: var(--fill-color);\n",
              "      border-top-color: var(--fill-color);\n",
              "    }\n",
              "    30% {\n",
              "      border-color: transparent;\n",
              "      border-left-color: var(--fill-color);\n",
              "      border-top-color: var(--fill-color);\n",
              "      border-right-color: var(--fill-color);\n",
              "    }\n",
              "    40% {\n",
              "      border-color: transparent;\n",
              "      border-right-color: var(--fill-color);\n",
              "      border-top-color: var(--fill-color);\n",
              "    }\n",
              "    60% {\n",
              "      border-color: transparent;\n",
              "      border-right-color: var(--fill-color);\n",
              "    }\n",
              "    80% {\n",
              "      border-color: transparent;\n",
              "      border-right-color: var(--fill-color);\n",
              "      border-bottom-color: var(--fill-color);\n",
              "    }\n",
              "    90% {\n",
              "      border-color: transparent;\n",
              "      border-bottom-color: var(--fill-color);\n",
              "    }\n",
              "  }\n",
              "</style>\n",
              "\n",
              "      <script>\n",
              "        async function quickchart(key) {\n",
              "          const quickchartButtonEl =\n",
              "            document.querySelector('#' + key + ' button');\n",
              "          quickchartButtonEl.disabled = true;  // To prevent multiple clicks.\n",
              "          quickchartButtonEl.classList.add('colab-df-spinner');\n",
              "          try {\n",
              "            const charts = await google.colab.kernel.invokeFunction(\n",
              "                'suggestCharts', [key], {});\n",
              "          } catch (error) {\n",
              "            console.error('Error during call to suggestCharts:', error);\n",
              "          }\n",
              "          quickchartButtonEl.classList.remove('colab-df-spinner');\n",
              "          quickchartButtonEl.classList.add('colab-df-quickchart-complete');\n",
              "        }\n",
              "        (() => {\n",
              "          let quickchartButtonEl =\n",
              "            document.querySelector('#df-2abc6c94-5367-4572-a5a3-ac045850ac61 button');\n",
              "          quickchartButtonEl.style.display =\n",
              "            google.colab.kernel.accessAllowed ? 'block' : 'none';\n",
              "        })();\n",
              "      </script>\n",
              "    </div>\n",
              "\n",
              "    </div>\n",
              "  </div>\n"
            ],
            "application/vnd.google.colaboratory.intrinsic+json": {
              "type": "dataframe",
              "variable_name": "df",
              "summary": "{\n  \"name\": \"df\",\n  \"rows\": 312,\n  \"fields\": [\n    {\n      \"column\": \"title\",\n      \"properties\": {\n        \"dtype\": \"string\",\n        \"num_unique_values\": 305,\n        \"samples\": [\n          \"BOKKOLIK Industrial Bar Stools (Set of 2) Counter Height Adjustable 24-27.5inch Vintage Kitchen Island Stool Farmhouse Office Guest Chair Swivel Wooden Seat\",\n          \"shopperals Large Black Fogless Handheld Shaving Mirror with Ergonomic Handle -Perfect for Men and Women, 9\\\" x 13\\u2019\\u2019\",\n          \"SITMOD Gaming Chairs for Adults with Footrest-Computer Ergonomic Video Game Chair-Backrest and Seat Height Adjustable Swivel Task Chair with Lumbar Support(Gray)-Fabric\"\n        ],\n        \"semantic_type\": \"\",\n        \"description\": \"\"\n      }\n    },\n    {\n      \"column\": \"brand\",\n      \"properties\": {\n        \"dtype\": \"string\",\n        \"num_unique_values\": 264,\n        \"samples\": [\n          \"TocTen Store\",\n          \"GREENSTELL Store\",\n          \"Camco Store\"\n        ],\n        \"semantic_type\": \"\",\n        \"description\": \"\"\n      }\n    },\n    {\n      \"column\": \"description\",\n      \"properties\": {\n        \"dtype\": \"category\",\n        \"num_unique_values\": 153,\n        \"samples\": [\n          \"This deep seated occasional chair is perfect for adding a splash of color to your home while still providing extra seating when needed. Made with top quality material and featuring hand crafted detail work, This chair is a must have. Each stud and button was placed by hand; making any piece you buy a one of a kind.\",\n          \"At Toland Home Garden, we believe in making mats that are bright and vibrant for all times of the year. We create our\\u00a0designer\\u00a0mats to be an enchantment to every season, an announcement for every holiday, and a declaration of your personal style year-round. Our Standard Mats and printed and pressed in the USA using creative, original artworks licensed exclusively for Toland. There are many great uses for our Standard Mats. Create an inviting entry way to welcome all your guests; use a variety of our seasonal designs to toast the holidays in every room of your house; place as a creative accent rug in any foyer.\\u00a0Your pets may even claim the mats as their new favorite spot to guard your house!\\u00a0\\u00a0With hundreds of designs we have many beautiful mats to choose from so buy one as a treat for yourself or a couple as gifts for loved ones!\",\n          \"Streamlined mirror with beveled edge, 5mm thick with rubber feet. Price is for one mirror only. MDF Backer with 3 black hangers, 2 screws and anchors, plus and 4pcs soft EPE round rubber feet included in small bag.\"\n        ],\n        \"semantic_type\": \"\",\n        \"description\": \"\"\n      }\n    },\n    {\n      \"column\": \"price\",\n      \"properties\": {\n        \"dtype\": \"category\",\n        \"num_unique_values\": 135,\n        \"samples\": [\n          \"$19.90\",\n          \"$37.49\",\n          \"$31.99\"\n        ],\n        \"semantic_type\": \"\",\n        \"description\": \"\"\n      }\n    },\n    {\n      \"column\": \"categories\",\n      \"properties\": {\n        \"dtype\": \"category\",\n        \"num_unique_values\": 87,\n        \"samples\": [\n          \"['Home & Kitchen', 'Furniture', 'Dining Room Furniture', 'Table Benches']\",\n          \"['Home & Kitchen', 'Storage & Organization', 'Clothing & Closet Storage', 'Shoe Organizers', 'Free Standing Shoe Racks']\",\n          \"['Home & Kitchen', 'Furniture', 'Kitchen Furniture', 'Storage Islands & Carts', 'Storage Carts']\"\n        ],\n        \"semantic_type\": \"\",\n        \"description\": \"\"\n      }\n    },\n    {\n      \"column\": \"images\",\n      \"properties\": {\n        \"dtype\": \"string\",\n        \"num_unique_values\": 305,\n        \"samples\": [\n          \"['https://m.media-amazon.com/images/I/41r1PM96rVL._SS522_.jpg ', ' https://m.media-amazon.com/images/I/51BbVejdJRL._SS522_.jpg ', ' https://m.media-amazon.com/images/I/41vy3CXwjHL._SS522_.jpg ', ' https://m.media-amazon.com/images/I/41upmkeZJxL._SS522_.jpg ', ' https://m.media-amazon.com/images/I/51Xc9QM85SL._SS522_.jpg ', ' https://m.media-amazon.com/images/I/41--War1GvL._SS522_.jpg']\",\n          \"['https://m.media-amazon.com/images/I/413+UE2HxQL._SS522_.jpg ', ' https://m.media-amazon.com/images/I/51G96porfnL._SS522_.jpg ', ' https://m.media-amazon.com/images/I/41O-SLrTolL._SS522_.jpg ', ' https://m.media-amazon.com/images/I/418vx2eEPzL._SS522_.jpg ', ' https://m.media-amazon.com/images/I/41qz+EEZOjL._SS522_.jpg ', ' https://m.media-amazon.com/images/I/41p4UWUSiWL._SS522_.jpg ', ' https://m.media-amazon.com/images/I/41kbccNDRXL._SS522_.jpg']\",\n          \"['https://m.media-amazon.com/images/I/41bntfm39UL._SS522_.jpg ', ' https://m.media-amazon.com/images/I/51Q9m0oNt5L._SS522_.jpg ', ' https://m.media-amazon.com/images/I/410o5XkVskL._SS522_.jpg ', ' https://m.media-amazon.com/images/I/316sWoqwLLL._SS522_.jpg ', ' https://m.media-amazon.com/images/I/31TUXFm62HL._SS522_.jpg ', ' https://m.media-amazon.com/images/I/41k+8IuCRHL._SS522_.jpg ', ' https://m.media-amazon.com/images/I/71hgGm0RvQL.SS125_SS522_.jpg']\"\n        ],\n        \"semantic_type\": \"\",\n        \"description\": \"\"\n      }\n    },\n    {\n      \"column\": \"manufacturer\",\n      \"properties\": {\n        \"dtype\": \"category\",\n        \"num_unique_values\": 155,\n        \"samples\": [\n          \"Armen Living\",\n          \"Glitzhome\",\n          \"Big Fine\"\n        ],\n        \"semantic_type\": \"\",\n        \"description\": \"\"\n      }\n    },\n    {\n      \"column\": \"package_dimensions\",\n      \"properties\": {\n        \"dtype\": \"string\",\n        \"num_unique_values\": 286,\n        \"samples\": [\n          \"20.5 x 3.5 x 2.5 inches\",\n          \"27.5\\\"D x 28\\\"W x 15.12\\\"H\",\n          \"13\\\"L x 13\\\"W\"\n        ],\n        \"semantic_type\": \"\",\n        \"description\": \"\"\n      }\n    },\n    {\n      \"column\": \"country_of_origin\",\n      \"properties\": {\n        \"dtype\": \"category\",\n        \"num_unique_values\": 9,\n        \"samples\": [\n          \"India\",\n          \"Vietnam\",\n          \"Malaysia\"\n        ],\n        \"semantic_type\": \"\",\n        \"description\": \"\"\n      }\n    },\n    {\n      \"column\": \"material\",\n      \"properties\": {\n        \"dtype\": \"category\",\n        \"num_unique_values\": 72,\n        \"samples\": [\n          \"Iron\",\n          \"Acrylonitrile Butadiene Styrene\",\n          \"Cotton\"\n        ],\n        \"semantic_type\": \"\",\n        \"description\": \"\"\n      }\n    },\n    {\n      \"column\": \"color\",\n      \"properties\": {\n        \"dtype\": \"category\",\n        \"num_unique_values\": 143,\n        \"samples\": [\n          \"Tan Woven\",\n          \"Charcoal Gray / Black\",\n          \"Gold\"\n        ],\n        \"semantic_type\": \"\",\n        \"description\": \"\"\n      }\n    },\n    {\n      \"column\": \"uniq_id\",\n      \"properties\": {\n        \"dtype\": \"string\",\n        \"num_unique_values\": 305,\n        \"samples\": [\n          \"2662d66b-536d-5893-af62-d284a61e86ed\",\n          \"6aaa6404-dace-5b83-b965-a557eb1f67b0\",\n          \"a2faf888-34bf-57ff-bd7c-64af98415538\"\n        ],\n        \"semantic_type\": \"\",\n        \"description\": \"\"\n      }\n    }\n  ]\n}"
            }
          },
          "metadata": {},
          "execution_count": 4
        }
      ]
    },
    {
      "cell_type": "code",
      "source": [
        "# Total products and products with price\n",
        "total_products = len(df)\n",
        "with_price = df[\"price\"].notnull().sum()\n",
        "\n",
        "print(f\"Total products: {total_products}\")\n",
        "print(f\"Products with price: {with_price}\")\n"
      ],
      "metadata": {
        "colab": {
          "base_uri": "https://localhost:8080/"
        },
        "id": "YAyrRrBi45Bg",
        "outputId": "2e337908-dcee-461c-feaf-b03e33c7bb9a"
      },
      "execution_count": null,
      "outputs": [
        {
          "output_type": "stream",
          "name": "stdout",
          "text": [
            "Total products: 312\n",
            "Products with price: 215\n"
          ]
        }
      ]
    },
    {
      "cell_type": "code",
      "source": [
        "# Remove $ and commas, convert to float\n",
        "df[\"clean_price\"] = df[\"price\"].str.replace(\"$\", \"\").str.replace(\",\", \"\").astype(float)\n",
        "\n",
        "# Describe price stats\n",
        "df[\"clean_price\"].describe()\n"
      ],
      "metadata": {
        "colab": {
          "base_uri": "https://localhost:8080/",
          "height": 335
        },
        "id": "vvbHtV8i47kN",
        "outputId": "2b374aa9-608d-49d3-a7ec-1471efd7ecf2"
      },
      "execution_count": null,
      "outputs": [
        {
          "output_type": "execute_result",
          "data": {
            "text/plain": [
              "count    215.000000\n",
              "mean      67.630651\n",
              "std       57.962150\n",
              "min        0.600000\n",
              "25%       24.990000\n",
              "50%       53.990000\n",
              "75%       89.990000\n",
              "max      349.000000\n",
              "Name: clean_price, dtype: float64"
            ],
            "text/html": [
              "<div>\n",
              "<style scoped>\n",
              "    .dataframe tbody tr th:only-of-type {\n",
              "        vertical-align: middle;\n",
              "    }\n",
              "\n",
              "    .dataframe tbody tr th {\n",
              "        vertical-align: top;\n",
              "    }\n",
              "\n",
              "    .dataframe thead th {\n",
              "        text-align: right;\n",
              "    }\n",
              "</style>\n",
              "<table border=\"1\" class=\"dataframe\">\n",
              "  <thead>\n",
              "    <tr style=\"text-align: right;\">\n",
              "      <th></th>\n",
              "      <th>clean_price</th>\n",
              "    </tr>\n",
              "  </thead>\n",
              "  <tbody>\n",
              "    <tr>\n",
              "      <th>count</th>\n",
              "      <td>215.000000</td>\n",
              "    </tr>\n",
              "    <tr>\n",
              "      <th>mean</th>\n",
              "      <td>67.630651</td>\n",
              "    </tr>\n",
              "    <tr>\n",
              "      <th>std</th>\n",
              "      <td>57.962150</td>\n",
              "    </tr>\n",
              "    <tr>\n",
              "      <th>min</th>\n",
              "      <td>0.600000</td>\n",
              "    </tr>\n",
              "    <tr>\n",
              "      <th>25%</th>\n",
              "      <td>24.990000</td>\n",
              "    </tr>\n",
              "    <tr>\n",
              "      <th>50%</th>\n",
              "      <td>53.990000</td>\n",
              "    </tr>\n",
              "    <tr>\n",
              "      <th>75%</th>\n",
              "      <td>89.990000</td>\n",
              "    </tr>\n",
              "    <tr>\n",
              "      <th>max</th>\n",
              "      <td>349.000000</td>\n",
              "    </tr>\n",
              "  </tbody>\n",
              "</table>\n",
              "</div><br><label><b>dtype:</b> float64</label>"
            ]
          },
          "metadata": {},
          "execution_count": 6
        }
      ]
    },
    {
      "cell_type": "code",
      "source": [
        "# Top 10 brands\n",
        "df[\"brand\"].value_counts().head(10).plot(kind=\"bar\", title=\"Top Brands\")\n"
      ],
      "metadata": {
        "colab": {
          "base_uri": "https://localhost:8080/",
          "height": 691
        },
        "id": "INKDlAKa49tw",
        "outputId": "e1db19cb-8ec2-41ce-b9b5-aca599b43dd6"
      },
      "execution_count": null,
      "outputs": [
        {
          "output_type": "execute_result",
          "data": {
            "text/plain": [
              "<Axes: title={'center': 'Top Brands'}, xlabel='brand'>"
            ]
          },
          "metadata": {},
          "execution_count": 7
        },
        {
          "output_type": "display_data",
          "data": {
            "text/plain": [
              "<Figure size 640x480 with 1 Axes>"
            ],
            "image/png": "[encoded data removed]"
          },
          "metadata": {}
        }
      ]
    },
    {
      "cell_type": "code",
      "source": [
        "import ast\n",
        "from collections import Counter\n",
        "\n",
        "# Parse category lists\n",
        "df[\"categories_list\"] = df[\"categories\"].apply(lambda x: ast.literal_eval(x) if pd.notnull(x) else [])\n",
        "\n",
        "# Flatten and count\n",
        "all_categories = [cat for sublist in df[\"categories_list\"] for cat in sublist]\n",
        "category_counts = Counter(all_categories)\n",
        "\n",
        "# Show top categories\n",
        "pd.Series(category_counts).sort_values(ascending=False).head(10).plot(kind=\"bar\", title=\"Top Categories\")\n",
        "\n"
      ],
      "metadata": {
        "colab": {
          "base_uri": "https://localhost:8080/",
          "height": 701
        },
        "id": "wSKQpPlj5EZy",
        "outputId": "1a0b5606-6a05-4ecd-8af6-ae45112c96fb"
      },
      "execution_count": null,
      "outputs": [
        {
          "output_type": "execute_result",
          "data": {
            "text/plain": [
              "<Axes: title={'center': 'Top Categories'}>"
            ]
          },
          "metadata": {},
          "execution_count": 8
        },
        {
          "output_type": "display_data",
          "data": {
            "text/plain": [
              "<Figure size 640x480 with 1 Axes>"
            ],
            "image/png": "[encoded data removed]"
          },
          "metadata": {}
        }
      ]
    },
    {
      "cell_type": "code",
      "source": [
        "df[\"material\"].value_counts().head(10).plot(kind=\"bar\", title=\"Top Materials\")\n",
        "df[\"color\"].value_counts().head(10).plot(kind=\"bar\", title=\"Top Colors\")\n"
      ],
      "metadata": {
        "colab": {
          "base_uri": "https://localhost:8080/",
          "height": 565
        },
        "id": "bpnHMxJZ5H2X",
        "outputId": "3fdb9ada-738b-49a0-cd7e-ff1facf5059b"
      },
      "execution_count": null,
      "outputs": [
        {
          "output_type": "execute_result",
          "data": {
            "text/plain": [
              "<Axes: title={'center': 'Top Colors'}, xlabel='color'>"
            ]
          },
          "metadata": {},
          "execution_count": 9
        },
        {
          "output_type": "display_data",
          "data": {
            "text/plain": [
              "<Figure size 640x480 with 1 Axes>"
            ],
            "image/png": "[encoded data removed]"
          },
          "metadata": {}
        }
      ]
    },
    {
      "cell_type": "code",
      "source": [
        "def bucket_price(p):\n",
        "    if p < 2000: return \"0–2000\"\n",
        "    elif p < 5000: return \"2000–5000\"\n",
        "    elif p < 10000: return \"5000–10000\"\n",
        "    else: return \"10000+\"\n",
        "\n",
        "df[\"price_bucket\"] = df[\"clean_price\"].apply(bucket_price)\n",
        "df[\"price_bucket\"].value_counts().plot(kind=\"bar\", title=\"Price Buckets\")\n"
      ],
      "metadata": {
        "colab": {
          "base_uri": "https://localhost:8080/",
          "height": 530
        },
        "id": "G1wy3lca5Kt9",
        "outputId": "a40ee1e0-e169-4fff-8cba-728e73fb7996"
      },
      "execution_count": null,
      "outputs": [
        {
          "output_type": "execute_result",
          "data": {
            "text/plain": [
              "<Axes: title={'center': 'Price Buckets'}, xlabel='price_bucket'>"
            ]
          },
          "metadata": {},
          "execution_count": 10
        },
        {
          "output_type": "display_data",
          "data": {
            "text/plain": [
              "<Figure size 640x480 with 1 Axes>"
            ],
            "image/png": "[encoded data removed]"
          },
          "metadata": {}
        }
      ]
    },
    {
      "cell_type": "code",
      "source": [
        "print(\"✅ Analytics complete. Key insights extracted from brand, category, price, material, and color dimensions.\")\n"
      ],
      "metadata": {
        "id": "4C8A62Fk5Nl1",
        "outputId": "adc4581b-d4a9-4133-bda4-367c3ad9308e",
        "colab": {
          "base_uri": "https://localhost:8080/"
        }
      },
      "execution_count": null,
      "outputs": [
        {
          "output_type": "stream",
          "name": "stdout",
          "text": [
            "✅ Analytics complete. Key insights extracted from brand, category, price, material, and color dimensions.\n"
          ]
        }
      ]
    }
  ]
}